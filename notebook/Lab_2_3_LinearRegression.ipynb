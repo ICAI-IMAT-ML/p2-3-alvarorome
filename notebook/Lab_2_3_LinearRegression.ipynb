{
 "cells": [
  {
   "cell_type": "markdown",
   "metadata": {
    "id": "WRWNAO0lh2rd"
   },
   "source": [
    "# Laboratory 2.3: Linear Regression\n",
    "\n",
    "In this practice you will build your own Linear Regression model. As you _should_ remember, we have seen in class how to obtain the optimal values for the parameters in a linear regression model. If you need to refresh your memory, check the slides from theory for the formula for the model optimization.\n",
    "\n",
    "For the final part of this practice you will also need the following dataset:\n",
    "- **winequality.csv**: Dataset with several input variables and a continuous output variable to determine wine quality. You can get more information from the [original repository](https://archive.ics.uci.edu/dataset/186/wine+quality).\n",
    "\n",
    "\n",
    "In addition, we will be using the following libraries:\n",
    "- Data management:\n",
    "    - [numpy](https://numpy.org/)\n",
    "    - [pandas](https://pandas.pydata.org/)\n",
    "- Modelling:\n",
    "    - [scikit-learn](https://scikit-learn.org)\n",
    "- Plotting:\n",
    "    - [seaborn](https://seaborn.pydata.org/)\n",
    "    - [matplotlib](https://matplotlib.org/)"
   ]
  },
  {
   "cell_type": "code",
   "execution_count": 17,
   "metadata": {
    "id": "NnJnexJ7h2rd"
   },
   "outputs": [],
   "source": [
    "# Import here whatever you may need\n",
    "import numpy as np\n",
    "import sys\n",
    "import os\n",
    "\n",
    "# Get the absolute path of the project root\n",
    "project_root = os.path.abspath(os.path.join(os.getcwd(), \"..\"))\n",
    "\n",
    "# Add it to sys.path\n",
    "sys.path.insert(0, project_root)\n",
    "\n",
    "from src.lab_2_3_LinearRegression import LinearRegressor, evaluate_regression, sklearn_comparison, anscombe_quartet"
   ]
  },
  {
   "cell_type": "code",
   "execution_count": 18,
   "metadata": {
    "id": "dqSxkSEch2rd"
   },
   "outputs": [],
   "source": [
    "# Define data to use in this practice\n",
    "x = np.array([0, 3, 2, 1, 4, 6, 7, 8, 9, 10])\n",
    "y = np.array([2, 3, 2, 4, 5, 7, 9, 9, 10, 13])"
   ]
  },
  {
   "cell_type": "code",
   "execution_count": 19,
   "metadata": {
    "id": "RiTr7qgth2re"
   },
   "outputs": [],
   "source": [
    "### Train your linear regression model\n",
    "linreg = LinearRegressor()\n",
    "linreg.fit_simple(x, y)"
   ]
  },
  {
   "cell_type": "code",
   "execution_count": 20,
   "metadata": {
    "id": "7c6oHr-eh2re"
   },
   "outputs": [
    {
     "name": "stdout",
     "output_type": "stream",
     "text": [
      "{'R2': np.float64(0.9201359388275275), 'RMSE': np.float64(1.0126472956832235), 'MAE': np.float64(0.8945454545454549)}\n"
     ]
    }
   ],
   "source": [
    "# Obtain regression performance metrics\n",
    "y_pred = linreg.predict(x)\n",
    "evaluation_metrics = evaluate_regression(y, y_pred)\n",
    "print(evaluation_metrics)"
   ]
  },
  {
   "cell_type": "markdown",
   "metadata": {
    "id": "x8TlfJHwh2re"
   },
   "source": [
    "### Scikit-Learn comparison"
   ]
  },
  {
   "cell_type": "code",
   "execution_count": 21,
   "metadata": {
    "id": "TbJDCd7Zh2re"
   },
   "outputs": [
    {
     "name": "stdout",
     "output_type": "stream",
     "text": [
      "Custom Model Coefficient: [1.03636364]\n",
      "Custom Model Intercept: 1.2181818181818187\n",
      "Scikit-Learn Coefficient: 1.036363636363637\n",
      "Scikit-Learn Intercept: 1.2181818181818151\n"
     ]
    },
    {
     "data": {
      "text/plain": [
       "{'custom_coefficient': array([1.03636364]),\n",
       " 'custom_intercept': np.float64(1.2181818181818187),\n",
       " 'sklearn_coefficient': np.float64(1.036363636363637),\n",
       " 'sklearn_intercept': np.float64(1.2181818181818151)}"
      ]
     },
     "execution_count": 21,
     "metadata": {},
     "output_type": "execute_result"
    }
   ],
   "source": [
    "### Compare your model with sklearn linear regression model\n",
    "sklearn_comparison(x, y, linreg)\n"
   ]
  },
  {
   "cell_type": "markdown",
   "metadata": {
    "id": "k5sazRaSh2rf"
   },
   "source": [
    "### Anscombe's quartet"
   ]
  },
  {
   "cell_type": "code",
   "execution_count": 22,
   "metadata": {
    "id": "REHUOe_6h2rf"
   },
   "outputs": [
    {
     "name": "stdout",
     "output_type": "stream",
     "text": [
      "Dataset I: Coefficient: [0.50009091], Intercept: 3.0000909090909103\n",
      "R2: 0.666542459508775, RMSE: 1.1185497916336296, MAE: 0.8374049586776859\n",
      "Dataset II: Coefficient: [0.5], Intercept: 3.000909090909091\n",
      "R2: 0.6662420337274843, RMSE: 1.1191023557497448, MAE: 0.967933884297521\n",
      "Dataset III: Coefficient: [0.49972727], Intercept: 3.0024545454545457\n",
      "R2: 0.6663240410665592, RMSE: 1.118285693623049, MAE: 0.7159669421487604\n",
      "Dataset IV: Coefficient: [0.49990909], Intercept: 3.0017272727272726\n",
      "R2: 0.6667072568984653, RMSE: 1.1177286221293936, MAE: 0.902727272727273\n"
     ]
    }
   ],
   "source": [
    "import seaborn as sns\n",
    "import matplotlib.pyplot as plt\n",
    "\n",
    "anscombe, datasets, models, result = anscombe_quartet()"
   ]
  },
  {
   "cell_type": "markdown",
   "metadata": {
    "id": "LeRgTSk7oA4D"
   },
   "source": [
    "**Questions:** What do you think about the fit? Do you notice something? Comment it here below:\n",
    "\n",
    "\n",
    "\n",
    "`You answer here`\n"
   ]
  },
  {
   "cell_type": "markdown",
   "metadata": {
    "id": "Be1xl2N6oUXm"
   },
   "source": [
    "\n",
    "Once all models are trained (one for each dataset), we will plot the results of the fit alongside each point set"
   ]
  },
  {
   "cell_type": "code",
   "execution_count": 23,
   "metadata": {
    "id": "NXxbgbrNh2rf"
   },
   "outputs": [
    {
     "ename": "TypeError",
     "evalue": "'LinearRegressor' object is not subscriptable",
     "output_type": "error",
     "traceback": [
      "\u001b[1;31m---------------------------------------------------------------------------\u001b[0m",
      "\u001b[1;31mTypeError\u001b[0m                                 Traceback (most recent call last)",
      "Cell \u001b[1;32mIn[23], line 13\u001b[0m\n\u001b[0;32m      9\u001b[0m     axs[i]\u001b[38;5;241m.\u001b[39mscatter(data[\u001b[38;5;124m\"\u001b[39m\u001b[38;5;124mx\u001b[39m\u001b[38;5;124m\"\u001b[39m], data[\u001b[38;5;124m\"\u001b[39m\u001b[38;5;124my\u001b[39m\u001b[38;5;124m\"\u001b[39m])\n\u001b[0;32m     11\u001b[0m     \u001b[38;5;66;03m# Plot the data and the fit (fill the \"None\" value)\u001b[39;00m\n\u001b[0;32m     12\u001b[0m     axs[i]\u001b[38;5;241m.\u001b[39mplot(\n\u001b[1;32m---> 13\u001b[0m         data[\u001b[38;5;124m\"\u001b[39m\u001b[38;5;124mx\u001b[39m\u001b[38;5;124m\"\u001b[39m], \u001b[43mmodels\u001b[49m\u001b[43m[\u001b[49m\u001b[43mdataset\u001b[49m\u001b[43m]\u001b[49m\u001b[38;5;241m.\u001b[39mpredict(data[\u001b[38;5;124m\"\u001b[39m\u001b[38;5;124mx\u001b[39m\u001b[38;5;124m\"\u001b[39m]), color\u001b[38;5;241m=\u001b[39m\u001b[38;5;124m\"\u001b[39m\u001b[38;5;124mred\u001b[39m\u001b[38;5;124m\"\u001b[39m\n\u001b[0;32m     14\u001b[0m     )  \u001b[38;5;66;03m# Regression line\u001b[39;00m\n\u001b[0;32m     15\u001b[0m     axs[i]\u001b[38;5;241m.\u001b[39mset_title(\u001b[38;5;124mf\u001b[39m\u001b[38;5;124m\"\u001b[39m\u001b[38;5;124mDataset \u001b[39m\u001b[38;5;132;01m{\u001b[39;00mdataset\u001b[38;5;132;01m}\u001b[39;00m\u001b[38;5;124m\"\u001b[39m)\n\u001b[0;32m     17\u001b[0m plt\u001b[38;5;241m.\u001b[39mtight_layout()\n",
      "\u001b[1;31mTypeError\u001b[0m: 'LinearRegressor' object is not subscriptable"
     ]
    },
    {
     "data": {
      "image/png": "[encoded data removed]",
      "text/plain": [
       "<Figure size 1000x1000 with 4 Axes>"
      ]
     },
     "metadata": {},
     "output_type": "display_data"
    }
   ],
   "source": [
    "# Visualizing the datasets with their regression lines\n",
    "fig, axs = plt.subplots(2, 2, figsize=(10, 10))\n",
    "axs = axs.flatten()\n",
    "\n",
    "for i, dataset in enumerate(datasets):\n",
    "\n",
    "    # TODO: Select the dataset for each case\n",
    "    data = anscombe.loc[anscombe[\"dataset\"] == dataset][[\"x\", \"y\"]]\n",
    "    axs[i].scatter(data[\"x\"], data[\"y\"])\n",
    "\n",
    "    # Plot the data and the fit (fill the \"None\" value)\n",
    "    axs[i].plot(\n",
    "        data[\"x\"], models[dataset].predict(data[\"x\"]), color=\"red\"\n",
    "    )  # Regression line\n",
    "    axs[i].set_title(f\"Dataset {dataset}\")\n",
    "\n",
    "plt.tight_layout()\n",
    "plt.show()"
   ]
  },
  {
   "cell_type": "markdown",
   "metadata": {
    "id": "SYxJ8UW-h2rf"
   },
   "source": [
    "### Multiple variable linear regression"
   ]
  },
  {
   "cell_type": "markdown",
   "metadata": {
    "id": "UAwQHv_Xh2rf"
   },
   "source": [
    "In this section, we are going to use the dataset of the quality of red wines based on chemical measurements. The original dataset can be found in the [UCI Repository](https://archive.ics.uci.edu/dataset/186/wine+quality)."
   ]
  },
  {
   "cell_type": "code",
   "execution_count": null,
   "metadata": {
    "id": "ry5ENkash2rf"
   },
   "outputs": [],
   "source": [
    "import pandas as pd\n",
    "\n",
    "wine_data = pd.read_csv(\"data/winequality.csv\", sep=';')"
   ]
  },
  {
   "cell_type": "code",
   "execution_count": null,
   "metadata": {
    "id": "3u0i4Bymh2rf"
   },
   "outputs": [],
   "source": [
    "# Divide dataset between inputs and output\n",
    "inputs = ['fixed acidity', 'volatile acidity', 'citric acid', 'residual sugar',\n",
    "       'chlorides', 'free sulfur dioxide', 'total sulfur dioxide', 'density',\n",
    "       'pH', 'sulphates', 'alcohol']\n",
    "output = 'quality'\n",
    "\n",
    "X = wine_data[inputs]\n",
    "y = wine_data[output]"
   ]
  },
  {
   "cell_type": "code",
   "execution_count": null,
   "metadata": {
    "id": "n2-Whxs7h2rg"
   },
   "outputs": [],
   "source": [
    "# Train multiple regression model\n",
    "linreg_multiple = LinearRegressor()\n",
    "linreg_multiple.fit_multiple(X, y)"
   ]
  },
  {
   "cell_type": "code",
   "execution_count": null,
   "metadata": {
    "id": "Mc0P6p9Gh2rg"
   },
   "outputs": [],
   "source": [
    "# Obtain regression performance metrics\n",
    "y_pred = linreg_multiple.predict(X)\n",
    "evaluation_metrics = evaluate_regression(y, y_pred)\n",
    "print(evaluation_metrics)"
   ]
  }
 ],
 "metadata": {
  "colab": {
   "provenance": []
  },
  "kernelspec": {
   "display_name": "Python 3",
   "language": "python",
   "name": "python3"
  },
  "language_info": {
   "codemirror_mode": {
    "name": "ipython",
    "version": 3
   },
   "file_extension": ".py",
   "mimetype": "text/x-python",
   "name": "python",
   "nbconvert_exporter": "python",
   "pygments_lexer": "ipython3",
   "version": "3.11.9"
  }
 },
 "nbformat": 4,
 "nbformat_minor": 0
}
